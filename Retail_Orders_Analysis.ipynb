{
  "nbformat": 4,
  "nbformat_minor": 0,
  "metadata": {
    "colab": {
      "provenance": [],
      "authorship_tag": "ABX9TyNB34Q06qeTiFCUZAoxEu6A",
      "include_colab_link": true
    },
    "kernelspec": {
      "name": "python3",
      "display_name": "Python 3"
    },
    "language_info": {
      "name": "python"
    }
  },
  "cells": [
    {
      "cell_type": "markdown",
      "metadata": {
        "id": "view-in-github",
        "colab_type": "text"
      },
      "source": [
        "<a href=\"https://colab.research.google.com/github/ShubhamK155/Retail-Orders-Analysis/blob/main/Retail_Orders_Analysis.ipynb\" target=\"_parent\"><img src=\"https://colab.research.google.com/assets/colab-badge.svg\" alt=\"Open In Colab\"/></a>"
      ]
    },
    {
      "cell_type": "markdown",
      "source": [
        "**Extracting data from kaggle API**\n",
        "\n",
        "\n"
      ],
      "metadata": {
        "id": "Uxw2pEHit6T5"
      }
    },
    {
      "cell_type": "code",
      "source": [
        "# extracting data\n",
        "!kaggle datasets download -d ankitbansal06/retail-orders"
      ],
      "metadata": {
        "collapsed": true,
        "id": "kIinz9nw61wp"
      },
      "execution_count": null,
      "outputs": []
    },
    {
      "cell_type": "code",
      "source": [
        "#Extracting file from zip file\n",
        "!unzip retail-orders.zip"
      ],
      "metadata": {
        "collapsed": true,
        "id": "sBOIW0nC6_wa"
      },
      "execution_count": null,
      "outputs": []
    },
    {
      "cell_type": "code",
      "source": [
        "# importing libraries\n",
        "import pandas as pd\n",
        "\n",
        "# Loading CSV file into DataFrame\n",
        "df = pd.read_csv('/content/orders.csv')"
      ],
      "metadata": {
        "id": "swsO4Sp48neR",
        "collapsed": true
      },
      "execution_count": null,
      "outputs": []
    },
    {
      "cell_type": "code",
      "source": [
        "# reading dataframe\n",
        "df"
      ],
      "metadata": {
        "id": "Go2I_is2BuIe",
        "collapsed": true
      },
      "execution_count": null,
      "outputs": []
    },
    {
      "cell_type": "markdown",
      "source": [
        "**Data Transformation, Cleaning & Manipulation**"
      ],
      "metadata": {
        "id": "2PnAs3xw5PHH"
      }
    },
    {
      "cell_type": "code",
      "source": [
        "# null handling\n",
        "import numpy as np"
      ],
      "metadata": {
        "id": "Bij2R5qnRqJf"
      },
      "execution_count": null,
      "outputs": []
    },
    {
      "cell_type": "code",
      "source": [
        "# checking for unique values for each column\n",
        "\n",
        "col_name = df.columns\n",
        "\n",
        "for index in col_name:\n",
        "  print(f\"'{index}': {df[index].unique()}\")\n",
        "\n",
        "# Got 'Ship Mode': ['Second Class' 'Standard Class' 'Not Available' 'unknown' 'First Class']\n",
        "# Changing 'Not Available' 'unknown' to Null Values"
      ],
      "metadata": {
        "id": "DUUFnlkfhKun"
      },
      "execution_count": null,
      "outputs": []
    },
    {
      "cell_type": "code",
      "source": [
        "df = pd.read_csv('orders.csv',na_values=['Not Available','unknown'])"
      ],
      "metadata": {
        "id": "deZJZX_uft56"
      },
      "execution_count": null,
      "outputs": []
    },
    {
      "cell_type": "code",
      "source": [
        "col_name = df.columns\n",
        "\n",
        "for index in col_name:\n",
        "  print(f\"'{index}': {df[index].unique()}\")\n",
        "\n",
        "# verifying the change 'Not Available' 'unknown' to Null Values"
      ],
      "metadata": {
        "id": "uBvGfVcYkZXz"
      },
      "execution_count": null,
      "outputs": []
    },
    {
      "cell_type": "code",
      "source": [
        "# checking every column for null values\n",
        "\n",
        "for index in col_name:\n",
        "  if df[index].isnull().any():\n",
        "    print({index})\n",
        "\n",
        "# Above will return {'Ship Mode'} has null values"
      ],
      "metadata": {
        "collapsed": true,
        "id": "Lst8gC-lR_Ka"
      },
      "execution_count": null,
      "outputs": []
    },
    {
      "cell_type": "code",
      "source": [
        "col_name\n",
        "#returns a list of column names"
      ],
      "metadata": {
        "collapsed": true,
        "id": "xMpDR7YscdCS"
      },
      "execution_count": null,
      "outputs": []
    },
    {
      "cell_type": "code",
      "source": [
        "#renaming the column names make them lower case and replace space with underscore\n",
        "\n",
        "df.columns = df.columns.str.lower()\n",
        "df.columns = df.columns.str.replace(' ','_')\n",
        "df.columns"
      ],
      "metadata": {
        "collapsed": true,
        "id": "49OQZH5Hc-vV"
      },
      "execution_count": null,
      "outputs": []
    },
    {
      "cell_type": "code",
      "source": [
        "df"
      ],
      "metadata": {
        "id": "Fu5H8yxmeJmJ"
      },
      "execution_count": null,
      "outputs": []
    },
    {
      "cell_type": "code",
      "source": [
        "#deriving new columns discount, sale price and profit\n",
        "\n",
        "df['discount']=df['list_price']*df['discount_percent']*.01\n",
        "df['sale_price']= df['list_price']-df['discount']\n",
        "df['profit']=df['sale_price']-df['cost_price']"
      ],
      "metadata": {
        "id": "cE96zgJLnhuq"
      },
      "execution_count": null,
      "outputs": []
    },
    {
      "cell_type": "code",
      "source": [
        "#converting order date from object data type to datetime\n",
        "\n",
        "df['order_date'] = pd.to_datetime(df['order_date'], format = \"%Y-%m-%d\")"
      ],
      "metadata": {
        "id": "kHeUCjxvpKup"
      },
      "execution_count": null,
      "outputs": []
    },
    {
      "cell_type": "code",
      "source": [
        "df.info()"
      ],
      "metadata": {
        "id": "GELTx0o8pooK"
      },
      "execution_count": null,
      "outputs": []
    },
    {
      "cell_type": "code",
      "source": [
        "#dropping cost price list price and discount percent columns\n",
        "df.drop(columns=['list_price','cost_price','discount_percent'],inplace=True)"
      ],
      "metadata": {
        "id": "lOjIycmVpxeI"
      },
      "execution_count": null,
      "outputs": []
    },
    {
      "cell_type": "code",
      "source": [
        "df"
      ],
      "metadata": {
        "colab": {
          "base_uri": "https://localhost:8080/",
          "height": 617
        },
        "id": "Li6D_b8pqN3I",
        "outputId": "0e2aecc3-d266-4ba1-9729-cb4b3da2b55c",
        "collapsed": true
      },
      "execution_count": null,
      "outputs": [
        {
          "output_type": "execute_result",
          "data": {
            "text/plain": [
              "      order_id order_date       ship_mode    segment        country  \\\n",
              "0            1 2023-03-01    Second Class   Consumer  United States   \n",
              "1            2 2023-08-15    Second Class   Consumer  United States   \n",
              "2            3 2023-01-10    Second Class  Corporate  United States   \n",
              "3            4 2022-06-18  Standard Class   Consumer  United States   \n",
              "4            5 2022-07-13  Standard Class   Consumer  United States   \n",
              "...        ...        ...             ...        ...            ...   \n",
              "9989      9990 2023-02-18    Second Class   Consumer  United States   \n",
              "9990      9991 2023-03-17  Standard Class   Consumer  United States   \n",
              "9991      9992 2022-08-07  Standard Class   Consumer  United States   \n",
              "9992      9993 2022-11-19  Standard Class   Consumer  United States   \n",
              "9993      9994 2022-07-17    Second Class   Consumer  United States   \n",
              "\n",
              "                 city       state  postal_code region         category  \\\n",
              "0           Henderson    Kentucky        42420  South        Furniture   \n",
              "1           Henderson    Kentucky        42420  South        Furniture   \n",
              "2         Los Angeles  California        90036   West  Office Supplies   \n",
              "3     Fort Lauderdale     Florida        33311  South        Furniture   \n",
              "4     Fort Lauderdale     Florida        33311  South  Office Supplies   \n",
              "...               ...         ...          ...    ...              ...   \n",
              "9989            Miami     Florida        33180  South        Furniture   \n",
              "9990       Costa Mesa  California        92627   West        Furniture   \n",
              "9991       Costa Mesa  California        92627   West       Technology   \n",
              "9992       Costa Mesa  California        92627   West  Office Supplies   \n",
              "9993      Westminster  California        92683   West  Office Supplies   \n",
              "\n",
              "     sub_category       product_id  quantity  discount  sale_price  profit  \n",
              "0       Bookcases  FUR-BO-10001798         2       5.2       254.8    14.8  \n",
              "1          Chairs  FUR-CH-10000454         3      21.9       708.1   108.1  \n",
              "2          Labels  OFF-LA-10000240         2       0.5         9.5    -0.5  \n",
              "3          Tables  FUR-TA-10000577         5      19.2       940.8   160.8  \n",
              "4         Storage  OFF-ST-10000760         2       1.0        19.0    -1.0  \n",
              "...           ...              ...       ...       ...         ...     ...  \n",
              "9989  Furnishings  FUR-FU-10001889         3       1.2        28.8    -1.2  \n",
              "9990  Furnishings  FUR-FU-10000747         2       3.6        86.4    16.4  \n",
              "9991       Phones  TEC-PH-10003645         2       5.2       254.8    34.8  \n",
              "9992        Paper  OFF-PA-10004041         4       0.9        29.1    -0.9  \n",
              "9993   Appliances  OFF-AP-10002684         2       7.2       232.8    22.8  \n",
              "\n",
              "[9994 rows x 16 columns]"
            ],
            "text/html": [
              "\n",
              "  <div id=\"df-5dedd4fa-c87b-42c4-ab38-6e5ae4103881\" class=\"colab-df-container\">\n",
              "    <div>\n",
              "<style scoped>\n",
              "    .dataframe tbody tr th:only-of-type {\n",
              "        vertical-align: middle;\n",
              "    }\n",
              "\n",
              "    .dataframe tbody tr th {\n",
              "        vertical-align: top;\n",
              "    }\n",
              "\n",
              "    .dataframe thead th {\n",
              "        text-align: right;\n",
              "    }\n",
              "</style>\n",
              "<table border=\"1\" class=\"dataframe\">\n",
              "  <thead>\n",
              "    <tr style=\"text-align: right;\">\n",
              "      <th></th>\n",
              "      <th>order_id</th>\n",
              "      <th>order_date</th>\n",
              "      <th>ship_mode</th>\n",
              "      <th>segment</th>\n",
              "      <th>country</th>\n",
              "      <th>city</th>\n",
              "      <th>state</th>\n",
              "      <th>postal_code</th>\n",
              "      <th>region</th>\n",
              "      <th>category</th>\n",
              "      <th>sub_category</th>\n",
              "      <th>product_id</th>\n",
              "      <th>quantity</th>\n",
              "      <th>discount</th>\n",
              "      <th>sale_price</th>\n",
              "      <th>profit</th>\n",
              "    </tr>\n",
              "  </thead>\n",
              "  <tbody>\n",
              "    <tr>\n",
              "      <th>0</th>\n",
              "      <td>1</td>\n",
              "      <td>2023-03-01</td>\n",
              "      <td>Second Class</td>\n",
              "      <td>Consumer</td>\n",
              "      <td>United States</td>\n",
              "      <td>Henderson</td>\n",
              "      <td>Kentucky</td>\n",
              "      <td>42420</td>\n",
              "      <td>South</td>\n",
              "      <td>Furniture</td>\n",
              "      <td>Bookcases</td>\n",
              "      <td>FUR-BO-10001798</td>\n",
              "      <td>2</td>\n",
              "      <td>5.2</td>\n",
              "      <td>254.8</td>\n",
              "      <td>14.8</td>\n",
              "    </tr>\n",
              "    <tr>\n",
              "      <th>1</th>\n",
              "      <td>2</td>\n",
              "      <td>2023-08-15</td>\n",
              "      <td>Second Class</td>\n",
              "      <td>Consumer</td>\n",
              "      <td>United States</td>\n",
              "      <td>Henderson</td>\n",
              "      <td>Kentucky</td>\n",
              "      <td>42420</td>\n",
              "      <td>South</td>\n",
              "      <td>Furniture</td>\n",
              "      <td>Chairs</td>\n",
              "      <td>FUR-CH-10000454</td>\n",
              "      <td>3</td>\n",
              "      <td>21.9</td>\n",
              "      <td>708.1</td>\n",
              "      <td>108.1</td>\n",
              "    </tr>\n",
              "    <tr>\n",
              "      <th>2</th>\n",
              "      <td>3</td>\n",
              "      <td>2023-01-10</td>\n",
              "      <td>Second Class</td>\n",
              "      <td>Corporate</td>\n",
              "      <td>United States</td>\n",
              "      <td>Los Angeles</td>\n",
              "      <td>California</td>\n",
              "      <td>90036</td>\n",
              "      <td>West</td>\n",
              "      <td>Office Supplies</td>\n",
              "      <td>Labels</td>\n",
              "      <td>OFF-LA-10000240</td>\n",
              "      <td>2</td>\n",
              "      <td>0.5</td>\n",
              "      <td>9.5</td>\n",
              "      <td>-0.5</td>\n",
              "    </tr>\n",
              "    <tr>\n",
              "      <th>3</th>\n",
              "      <td>4</td>\n",
              "      <td>2022-06-18</td>\n",
              "      <td>Standard Class</td>\n",
              "      <td>Consumer</td>\n",
              "      <td>United States</td>\n",
              "      <td>Fort Lauderdale</td>\n",
              "      <td>Florida</td>\n",
              "      <td>33311</td>\n",
              "      <td>South</td>\n",
              "      <td>Furniture</td>\n",
              "      <td>Tables</td>\n",
              "      <td>FUR-TA-10000577</td>\n",
              "      <td>5</td>\n",
              "      <td>19.2</td>\n",
              "      <td>940.8</td>\n",
              "      <td>160.8</td>\n",
              "    </tr>\n",
              "    <tr>\n",
              "      <th>4</th>\n",
              "      <td>5</td>\n",
              "      <td>2022-07-13</td>\n",
              "      <td>Standard Class</td>\n",
              "      <td>Consumer</td>\n",
              "      <td>United States</td>\n",
              "      <td>Fort Lauderdale</td>\n",
              "      <td>Florida</td>\n",
              "      <td>33311</td>\n",
              "      <td>South</td>\n",
              "      <td>Office Supplies</td>\n",
              "      <td>Storage</td>\n",
              "      <td>OFF-ST-10000760</td>\n",
              "      <td>2</td>\n",
              "      <td>1.0</td>\n",
              "      <td>19.0</td>\n",
              "      <td>-1.0</td>\n",
              "    </tr>\n",
              "    <tr>\n",
              "      <th>...</th>\n",
              "      <td>...</td>\n",
              "      <td>...</td>\n",
              "      <td>...</td>\n",
              "      <td>...</td>\n",
              "      <td>...</td>\n",
              "      <td>...</td>\n",
              "      <td>...</td>\n",
              "      <td>...</td>\n",
              "      <td>...</td>\n",
              "      <td>...</td>\n",
              "      <td>...</td>\n",
              "      <td>...</td>\n",
              "      <td>...</td>\n",
              "      <td>...</td>\n",
              "      <td>...</td>\n",
              "      <td>...</td>\n",
              "    </tr>\n",
              "    <tr>\n",
              "      <th>9989</th>\n",
              "      <td>9990</td>\n",
              "      <td>2023-02-18</td>\n",
              "      <td>Second Class</td>\n",
              "      <td>Consumer</td>\n",
              "      <td>United States</td>\n",
              "      <td>Miami</td>\n",
              "      <td>Florida</td>\n",
              "      <td>33180</td>\n",
              "      <td>South</td>\n",
              "      <td>Furniture</td>\n",
              "      <td>Furnishings</td>\n",
              "      <td>FUR-FU-10001889</td>\n",
              "      <td>3</td>\n",
              "      <td>1.2</td>\n",
              "      <td>28.8</td>\n",
              "      <td>-1.2</td>\n",
              "    </tr>\n",
              "    <tr>\n",
              "      <th>9990</th>\n",
              "      <td>9991</td>\n",
              "      <td>2023-03-17</td>\n",
              "      <td>Standard Class</td>\n",
              "      <td>Consumer</td>\n",
              "      <td>United States</td>\n",
              "      <td>Costa Mesa</td>\n",
              "      <td>California</td>\n",
              "      <td>92627</td>\n",
              "      <td>West</td>\n",
              "      <td>Furniture</td>\n",
              "      <td>Furnishings</td>\n",
              "      <td>FUR-FU-10000747</td>\n",
              "      <td>2</td>\n",
              "      <td>3.6</td>\n",
              "      <td>86.4</td>\n",
              "      <td>16.4</td>\n",
              "    </tr>\n",
              "    <tr>\n",
              "      <th>9991</th>\n",
              "      <td>9992</td>\n",
              "      <td>2022-08-07</td>\n",
              "      <td>Standard Class</td>\n",
              "      <td>Consumer</td>\n",
              "      <td>United States</td>\n",
              "      <td>Costa Mesa</td>\n",
              "      <td>California</td>\n",
              "      <td>92627</td>\n",
              "      <td>West</td>\n",
              "      <td>Technology</td>\n",
              "      <td>Phones</td>\n",
              "      <td>TEC-PH-10003645</td>\n",
              "      <td>2</td>\n",
              "      <td>5.2</td>\n",
              "      <td>254.8</td>\n",
              "      <td>34.8</td>\n",
              "    </tr>\n",
              "    <tr>\n",
              "      <th>9992</th>\n",
              "      <td>9993</td>\n",
              "      <td>2022-11-19</td>\n",
              "      <td>Standard Class</td>\n",
              "      <td>Consumer</td>\n",
              "      <td>United States</td>\n",
              "      <td>Costa Mesa</td>\n",
              "      <td>California</td>\n",
              "      <td>92627</td>\n",
              "      <td>West</td>\n",
              "      <td>Office Supplies</td>\n",
              "      <td>Paper</td>\n",
              "      <td>OFF-PA-10004041</td>\n",
              "      <td>4</td>\n",
              "      <td>0.9</td>\n",
              "      <td>29.1</td>\n",
              "      <td>-0.9</td>\n",
              "    </tr>\n",
              "    <tr>\n",
              "      <th>9993</th>\n",
              "      <td>9994</td>\n",
              "      <td>2022-07-17</td>\n",
              "      <td>Second Class</td>\n",
              "      <td>Consumer</td>\n",
              "      <td>United States</td>\n",
              "      <td>Westminster</td>\n",
              "      <td>California</td>\n",
              "      <td>92683</td>\n",
              "      <td>West</td>\n",
              "      <td>Office Supplies</td>\n",
              "      <td>Appliances</td>\n",
              "      <td>OFF-AP-10002684</td>\n",
              "      <td>2</td>\n",
              "      <td>7.2</td>\n",
              "      <td>232.8</td>\n",
              "      <td>22.8</td>\n",
              "    </tr>\n",
              "  </tbody>\n",
              "</table>\n",
              "<p>9994 rows × 16 columns</p>\n",
              "</div>\n",
              "    <div class=\"colab-df-buttons\">\n",
              "\n",
              "  <div class=\"colab-df-container\">\n",
              "    <button class=\"colab-df-convert\" onclick=\"convertToInteractive('df-5dedd4fa-c87b-42c4-ab38-6e5ae4103881')\"\n",
              "            title=\"Convert this dataframe to an interactive table.\"\n",
              "            style=\"display:none;\">\n",
              "\n",
              "  <svg xmlns=\"http://www.w3.org/2000/svg\" height=\"24px\" viewBox=\"0 -960 960 960\">\n",
              "    <path d=\"M120-120v-720h720v720H120Zm60-500h600v-160H180v160Zm220 220h160v-160H400v160Zm0 220h160v-160H400v160ZM180-400h160v-160H180v160Zm440 0h160v-160H620v160ZM180-180h160v-160H180v160Zm440 0h160v-160H620v160Z\"/>\n",
              "  </svg>\n",
              "    </button>\n",
              "\n",
              "  <style>\n",
              "    .colab-df-container {\n",
              "      display:flex;\n",
              "      gap: 12px;\n",
              "    }\n",
              "\n",
              "    .colab-df-convert {\n",
              "      background-color: #E8F0FE;\n",
              "      border: none;\n",
              "      border-radius: 50%;\n",
              "      cursor: pointer;\n",
              "      display: none;\n",
              "      fill: #1967D2;\n",
              "      height: 32px;\n",
              "      padding: 0 0 0 0;\n",
              "      width: 32px;\n",
              "    }\n",
              "\n",
              "    .colab-df-convert:hover {\n",
              "      background-color: #E2EBFA;\n",
              "      box-shadow: 0px 1px 2px rgba(60, 64, 67, 0.3), 0px 1px 3px 1px rgba(60, 64, 67, 0.15);\n",
              "      fill: #174EA6;\n",
              "    }\n",
              "\n",
              "    .colab-df-buttons div {\n",
              "      margin-bottom: 4px;\n",
              "    }\n",
              "\n",
              "    [theme=dark] .colab-df-convert {\n",
              "      background-color: #3B4455;\n",
              "      fill: #D2E3FC;\n",
              "    }\n",
              "\n",
              "    [theme=dark] .colab-df-convert:hover {\n",
              "      background-color: #434B5C;\n",
              "      box-shadow: 0px 1px 3px 1px rgba(0, 0, 0, 0.15);\n",
              "      filter: drop-shadow(0px 1px 2px rgba(0, 0, 0, 0.3));\n",
              "      fill: #FFFFFF;\n",
              "    }\n",
              "  </style>\n",
              "\n",
              "    <script>\n",
              "      const buttonEl =\n",
              "        document.querySelector('#df-5dedd4fa-c87b-42c4-ab38-6e5ae4103881 button.colab-df-convert');\n",
              "      buttonEl.style.display =\n",
              "        google.colab.kernel.accessAllowed ? 'block' : 'none';\n",
              "\n",
              "      async function convertToInteractive(key) {\n",
              "        const element = document.querySelector('#df-5dedd4fa-c87b-42c4-ab38-6e5ae4103881');\n",
              "        const dataTable =\n",
              "          await google.colab.kernel.invokeFunction('convertToInteractive',\n",
              "                                                    [key], {});\n",
              "        if (!dataTable) return;\n",
              "\n",
              "        const docLinkHtml = 'Like what you see? Visit the ' +\n",
              "          '<a target=\"_blank\" href=https://colab.research.google.com/notebooks/data_table.ipynb>data table notebook</a>'\n",
              "          + ' to learn more about interactive tables.';\n",
              "        element.innerHTML = '';\n",
              "        dataTable['output_type'] = 'display_data';\n",
              "        await google.colab.output.renderOutput(dataTable, element);\n",
              "        const docLink = document.createElement('div');\n",
              "        docLink.innerHTML = docLinkHtml;\n",
              "        element.appendChild(docLink);\n",
              "      }\n",
              "    </script>\n",
              "  </div>\n",
              "\n",
              "\n",
              "<div id=\"df-b85d776f-e5f7-41a6-acbe-18e4562bb028\">\n",
              "  <button class=\"colab-df-quickchart\" onclick=\"quickchart('df-b85d776f-e5f7-41a6-acbe-18e4562bb028')\"\n",
              "            title=\"Suggest charts\"\n",
              "            style=\"display:none;\">\n",
              "\n",
              "<svg xmlns=\"http://www.w3.org/2000/svg\" height=\"24px\"viewBox=\"0 0 24 24\"\n",
              "     width=\"24px\">\n",
              "    <g>\n",
              "        <path d=\"M19 3H5c-1.1 0-2 .9-2 2v14c0 1.1.9 2 2 2h14c1.1 0 2-.9 2-2V5c0-1.1-.9-2-2-2zM9 17H7v-7h2v7zm4 0h-2V7h2v10zm4 0h-2v-4h2v4z\"/>\n",
              "    </g>\n",
              "</svg>\n",
              "  </button>\n",
              "\n",
              "<style>\n",
              "  .colab-df-quickchart {\n",
              "      --bg-color: #E8F0FE;\n",
              "      --fill-color: #1967D2;\n",
              "      --hover-bg-color: #E2EBFA;\n",
              "      --hover-fill-color: #174EA6;\n",
              "      --disabled-fill-color: #AAA;\n",
              "      --disabled-bg-color: #DDD;\n",
              "  }\n",
              "\n",
              "  [theme=dark] .colab-df-quickchart {\n",
              "      --bg-color: #3B4455;\n",
              "      --fill-color: #D2E3FC;\n",
              "      --hover-bg-color: #434B5C;\n",
              "      --hover-fill-color: #FFFFFF;\n",
              "      --disabled-bg-color: #3B4455;\n",
              "      --disabled-fill-color: #666;\n",
              "  }\n",
              "\n",
              "  .colab-df-quickchart {\n",
              "    background-color: var(--bg-color);\n",
              "    border: none;\n",
              "    border-radius: 50%;\n",
              "    cursor: pointer;\n",
              "    display: none;\n",
              "    fill: var(--fill-color);\n",
              "    height: 32px;\n",
              "    padding: 0;\n",
              "    width: 32px;\n",
              "  }\n",
              "\n",
              "  .colab-df-quickchart:hover {\n",
              "    background-color: var(--hover-bg-color);\n",
              "    box-shadow: 0 1px 2px rgba(60, 64, 67, 0.3), 0 1px 3px 1px rgba(60, 64, 67, 0.15);\n",
              "    fill: var(--button-hover-fill-color);\n",
              "  }\n",
              "\n",
              "  .colab-df-quickchart-complete:disabled,\n",
              "  .colab-df-quickchart-complete:disabled:hover {\n",
              "    background-color: var(--disabled-bg-color);\n",
              "    fill: var(--disabled-fill-color);\n",
              "    box-shadow: none;\n",
              "  }\n",
              "\n",
              "  .colab-df-spinner {\n",
              "    border: 2px solid var(--fill-color);\n",
              "    border-color: transparent;\n",
              "    border-bottom-color: var(--fill-color);\n",
              "    animation:\n",
              "      spin 1s steps(1) infinite;\n",
              "  }\n",
              "\n",
              "  @keyframes spin {\n",
              "    0% {\n",
              "      border-color: transparent;\n",
              "      border-bottom-color: var(--fill-color);\n",
              "      border-left-color: var(--fill-color);\n",
              "    }\n",
              "    20% {\n",
              "      border-color: transparent;\n",
              "      border-left-color: var(--fill-color);\n",
              "      border-top-color: var(--fill-color);\n",
              "    }\n",
              "    30% {\n",
              "      border-color: transparent;\n",
              "      border-left-color: var(--fill-color);\n",
              "      border-top-color: var(--fill-color);\n",
              "      border-right-color: var(--fill-color);\n",
              "    }\n",
              "    40% {\n",
              "      border-color: transparent;\n",
              "      border-right-color: var(--fill-color);\n",
              "      border-top-color: var(--fill-color);\n",
              "    }\n",
              "    60% {\n",
              "      border-color: transparent;\n",
              "      border-right-color: var(--fill-color);\n",
              "    }\n",
              "    80% {\n",
              "      border-color: transparent;\n",
              "      border-right-color: var(--fill-color);\n",
              "      border-bottom-color: var(--fill-color);\n",
              "    }\n",
              "    90% {\n",
              "      border-color: transparent;\n",
              "      border-bottom-color: var(--fill-color);\n",
              "    }\n",
              "  }\n",
              "</style>\n",
              "\n",
              "  <script>\n",
              "    async function quickchart(key) {\n",
              "      const quickchartButtonEl =\n",
              "        document.querySelector('#' + key + ' button');\n",
              "      quickchartButtonEl.disabled = true;  // To prevent multiple clicks.\n",
              "      quickchartButtonEl.classList.add('colab-df-spinner');\n",
              "      try {\n",
              "        const charts = await google.colab.kernel.invokeFunction(\n",
              "            'suggestCharts', [key], {});\n",
              "      } catch (error) {\n",
              "        console.error('Error during call to suggestCharts:', error);\n",
              "      }\n",
              "      quickchartButtonEl.classList.remove('colab-df-spinner');\n",
              "      quickchartButtonEl.classList.add('colab-df-quickchart-complete');\n",
              "    }\n",
              "    (() => {\n",
              "      let quickchartButtonEl =\n",
              "        document.querySelector('#df-b85d776f-e5f7-41a6-acbe-18e4562bb028 button');\n",
              "      quickchartButtonEl.style.display =\n",
              "        google.colab.kernel.accessAllowed ? 'block' : 'none';\n",
              "    })();\n",
              "  </script>\n",
              "</div>\n",
              "\n",
              "  <div id=\"id_178a6d51-a1aa-48b4-a5ac-0df5422ae9e1\">\n",
              "    <style>\n",
              "      .colab-df-generate {\n",
              "        background-color: #E8F0FE;\n",
              "        border: none;\n",
              "        border-radius: 50%;\n",
              "        cursor: pointer;\n",
              "        display: none;\n",
              "        fill: #1967D2;\n",
              "        height: 32px;\n",
              "        padding: 0 0 0 0;\n",
              "        width: 32px;\n",
              "      }\n",
              "\n",
              "      .colab-df-generate:hover {\n",
              "        background-color: #E2EBFA;\n",
              "        box-shadow: 0px 1px 2px rgba(60, 64, 67, 0.3), 0px 1px 3px 1px rgba(60, 64, 67, 0.15);\n",
              "        fill: #174EA6;\n",
              "      }\n",
              "\n",
              "      [theme=dark] .colab-df-generate {\n",
              "        background-color: #3B4455;\n",
              "        fill: #D2E3FC;\n",
              "      }\n",
              "\n",
              "      [theme=dark] .colab-df-generate:hover {\n",
              "        background-color: #434B5C;\n",
              "        box-shadow: 0px 1px 3px 1px rgba(0, 0, 0, 0.15);\n",
              "        filter: drop-shadow(0px 1px 2px rgba(0, 0, 0, 0.3));\n",
              "        fill: #FFFFFF;\n",
              "      }\n",
              "    </style>\n",
              "    <button class=\"colab-df-generate\" onclick=\"generateWithVariable('df')\"\n",
              "            title=\"Generate code using this dataframe.\"\n",
              "            style=\"display:none;\">\n",
              "\n",
              "  <svg xmlns=\"http://www.w3.org/2000/svg\" height=\"24px\"viewBox=\"0 0 24 24\"\n",
              "       width=\"24px\">\n",
              "    <path d=\"M7,19H8.4L18.45,9,17,7.55,7,17.6ZM5,21V16.75L18.45,3.32a2,2,0,0,1,2.83,0l1.4,1.43a1.91,1.91,0,0,1,.58,1.4,1.91,1.91,0,0,1-.58,1.4L9.25,21ZM18.45,9,17,7.55Zm-12,3A5.31,5.31,0,0,0,4.9,8.1,5.31,5.31,0,0,0,1,6.5,5.31,5.31,0,0,0,4.9,4.9,5.31,5.31,0,0,0,6.5,1,5.31,5.31,0,0,0,8.1,4.9,5.31,5.31,0,0,0,12,6.5,5.46,5.46,0,0,0,6.5,12Z\"/>\n",
              "  </svg>\n",
              "    </button>\n",
              "    <script>\n",
              "      (() => {\n",
              "      const buttonEl =\n",
              "        document.querySelector('#id_178a6d51-a1aa-48b4-a5ac-0df5422ae9e1 button.colab-df-generate');\n",
              "      buttonEl.style.display =\n",
              "        google.colab.kernel.accessAllowed ? 'block' : 'none';\n",
              "\n",
              "      buttonEl.onclick = () => {\n",
              "        google.colab.notebook.generateWithVariable('df');\n",
              "      }\n",
              "      })();\n",
              "    </script>\n",
              "  </div>\n",
              "\n",
              "    </div>\n",
              "  </div>\n"
            ],
            "application/vnd.google.colaboratory.intrinsic+json": {
              "type": "dataframe",
              "variable_name": "df",
              "summary": "{\n  \"name\": \"df\",\n  \"rows\": 9994,\n  \"fields\": [\n    {\n      \"column\": \"order_id\",\n      \"properties\": {\n        \"dtype\": \"number\",\n        \"std\": 2885,\n        \"min\": 1,\n        \"max\": 9994,\n        \"num_unique_values\": 9994,\n        \"samples\": [\n          3126,\n          1442,\n          4511\n        ],\n        \"semantic_type\": \"\",\n        \"description\": \"\"\n      }\n    },\n    {\n      \"column\": \"order_date\",\n      \"properties\": {\n        \"dtype\": \"date\",\n        \"min\": \"2022-01-01 00:00:00\",\n        \"max\": \"2023-12-31 00:00:00\",\n        \"num_unique_values\": 730,\n        \"samples\": [\n          \"2022-11-04 00:00:00\",\n          \"2023-10-14 00:00:00\",\n          \"2023-09-23 00:00:00\"\n        ],\n        \"semantic_type\": \"\",\n        \"description\": \"\"\n      }\n    },\n    {\n      \"column\": \"ship_mode\",\n      \"properties\": {\n        \"dtype\": \"category\",\n        \"num_unique_values\": 4,\n        \"samples\": [\n          \"Standard Class\",\n          \"Same Day\",\n          \"Second Class\"\n        ],\n        \"semantic_type\": \"\",\n        \"description\": \"\"\n      }\n    },\n    {\n      \"column\": \"segment\",\n      \"properties\": {\n        \"dtype\": \"category\",\n        \"num_unique_values\": 3,\n        \"samples\": [\n          \"Consumer\",\n          \"Corporate\",\n          \"Home Office\"\n        ],\n        \"semantic_type\": \"\",\n        \"description\": \"\"\n      }\n    },\n    {\n      \"column\": \"country\",\n      \"properties\": {\n        \"dtype\": \"category\",\n        \"num_unique_values\": 1,\n        \"samples\": [\n          \"United States\"\n        ],\n        \"semantic_type\": \"\",\n        \"description\": \"\"\n      }\n    },\n    {\n      \"column\": \"city\",\n      \"properties\": {\n        \"dtype\": \"category\",\n        \"num_unique_values\": 531,\n        \"samples\": [\n          \"Laurel\"\n        ],\n        \"semantic_type\": \"\",\n        \"description\": \"\"\n      }\n    },\n    {\n      \"column\": \"state\",\n      \"properties\": {\n        \"dtype\": \"category\",\n        \"num_unique_values\": 49,\n        \"samples\": [\n          \"Delaware\"\n        ],\n        \"semantic_type\": \"\",\n        \"description\": \"\"\n      }\n    },\n    {\n      \"column\": \"postal_code\",\n      \"properties\": {\n        \"dtype\": \"number\",\n        \"std\": 32063,\n        \"min\": 1040,\n        \"max\": 99301,\n        \"num_unique_values\": 631,\n        \"samples\": [\n          30062\n        ],\n        \"semantic_type\": \"\",\n        \"description\": \"\"\n      }\n    },\n    {\n      \"column\": \"region\",\n      \"properties\": {\n        \"dtype\": \"category\",\n        \"num_unique_values\": 4,\n        \"samples\": [\n          \"West\"\n        ],\n        \"semantic_type\": \"\",\n        \"description\": \"\"\n      }\n    },\n    {\n      \"column\": \"category\",\n      \"properties\": {\n        \"dtype\": \"category\",\n        \"num_unique_values\": 3,\n        \"samples\": [\n          \"Furniture\"\n        ],\n        \"semantic_type\": \"\",\n        \"description\": \"\"\n      }\n    },\n    {\n      \"column\": \"sub_category\",\n      \"properties\": {\n        \"dtype\": \"category\",\n        \"num_unique_values\": 17,\n        \"samples\": [\n          \"Bookcases\"\n        ],\n        \"semantic_type\": \"\",\n        \"description\": \"\"\n      }\n    },\n    {\n      \"column\": \"product_id\",\n      \"properties\": {\n        \"dtype\": \"category\",\n        \"num_unique_values\": 1862,\n        \"samples\": [\n          \"TEC-PH-10001580\"\n        ],\n        \"semantic_type\": \"\",\n        \"description\": \"\"\n      }\n    },\n    {\n      \"column\": \"quantity\",\n      \"properties\": {\n        \"dtype\": \"number\",\n        \"std\": 2,\n        \"min\": 1,\n        \"max\": 14,\n        \"num_unique_values\": 14,\n        \"samples\": [\n          14\n        ],\n        \"semantic_type\": \"\",\n        \"description\": \"\"\n      }\n    },\n    {\n      \"column\": \"discount\",\n      \"properties\": {\n        \"dtype\": \"number\",\n        \"std\": 22.97800364495197,\n        \"min\": 0.0,\n        \"max\": 905.6,\n        \"num_unique_values\": 490,\n        \"samples\": [\n          38.5\n        ],\n        \"semantic_type\": \"\",\n        \"description\": \"\"\n      }\n    },\n    {\n      \"column\": \"sale_price\",\n      \"properties\": {\n        \"dtype\": \"number\",\n        \"std\": 601.3996037314221,\n        \"min\": 0.0,\n        \"max\": 21734.4,\n        \"num_unique_values\": 700,\n        \"samples\": [\n          835.2\n        ],\n        \"semantic_type\": \"\",\n        \"description\": \"\"\n      }\n    },\n    {\n      \"column\": \"profit\",\n      \"properties\": {\n        \"dtype\": \"number\",\n        \"std\": 72.51454722531035,\n        \"min\": -5.0,\n        \"max\": 3624.4000000000015,\n        \"num_unique_values\": 1109,\n        \"samples\": [\n          62.60000000000002\n        ],\n        \"semantic_type\": \"\",\n        \"description\": \"\"\n      }\n    }\n  ]\n}"
            }
          },
          "metadata": {},
          "execution_count": 198
        }
      ]
    },
    {
      "cell_type": "markdown",
      "source": [
        "**Loading Data in SQLite**"
      ],
      "metadata": {
        "id": "zdxU_qb45lm3"
      }
    },
    {
      "cell_type": "code",
      "source": [
        "# Loading the Data in Sqlite\n",
        "import sqlite3\n",
        "\n",
        "# Connecting to SQLite database (or create it if it doesn't exist)\n",
        "conn = sqlite3.connect('database.db')\n",
        "\n",
        "# Creating a table in SQLite (schema inferred from DataFrame)\n",
        "df.to_sql('orders_final', conn, if_exists = 'replace', index = False)\n",
        "\n",
        "c = conn.cursor()"
      ],
      "metadata": {
        "id": "n_Wqvg36qV2a"
      },
      "execution_count": null,
      "outputs": []
    },
    {
      "cell_type": "code",
      "source": [
        "# Verifying the ETL pipeline\n",
        "\n",
        "c.execute(\"SELECT discount,sale_price,profit FROM orders_final limit 10\")\n",
        "rows = c.fetchall()\n",
        "for row in rows:\n",
        "  print(row)"
      ],
      "metadata": {
        "colab": {
          "base_uri": "https://localhost:8080/"
        },
        "collapsed": true,
        "id": "IerIkNqisB2l",
        "outputId": "6b9e193a-a3f8-47c1-e3d1-2934dcdf7261"
      },
      "execution_count": null,
      "outputs": [
        {
          "output_type": "stream",
          "name": "stdout",
          "text": [
            "(5.2, 254.8, 14.800000000000011)\n",
            "(21.900000000000002, 708.1, 108.10000000000002)\n",
            "(0.5, 9.5, -0.5)\n",
            "(19.2, 940.8, 160.79999999999995)\n",
            "(1.0, 19.0, -1.0)\n",
            "(1.5, 48.5, -1.5)\n",
            "(0.3, 9.7, -0.3000000000000007)\n",
            "(45.5, 864.5, 4.5)\n",
            "(0.4, 19.6, -0.3999999999999986)\n",
            "(3.3000000000000003, 106.7, 16.700000000000003)\n"
          ]
        }
      ]
    },
    {
      "cell_type": "markdown",
      "source": [
        "**Exploratory data analysis using SQL**"
      ],
      "metadata": {
        "id": "VvzOyWK055lY"
      }
    },
    {
      "cell_type": "code",
      "source": [
        "# top 10 highest reveue generating products\n",
        "c.execute(\"\"\"\n",
        "    SELECT product_id, SUM(sale_price) AS sales\n",
        "    FROM orders_final\n",
        "    GROUP BY product_id\n",
        "    ORDER BY sales DESC\n",
        "    LIMIT 10\n",
        "\"\"\")\n",
        "rows = c.fetchall()\n",
        "for row in rows:\n",
        "  print(row)"
      ],
      "metadata": {
        "colab": {
          "base_uri": "https://localhost:8080/"
        },
        "id": "nffhixhktZsP",
        "outputId": "ad81a784-9d89-4eaa-8150-e7a1db353618"
      },
      "execution_count": null,
      "outputs": [
        {
          "output_type": "stream",
          "name": "stdout",
          "text": [
            "('TEC-CO-10004722', 59514.0)\n",
            "('OFF-BI-10003527', 26525.300000000003)\n",
            "('TEC-MA-10002412', 21734.4)\n",
            "('FUR-CH-10002024', 21096.2)\n",
            "('OFF-BI-10001359', 19090.2)\n",
            "('OFF-BI-10000545', 18249.0)\n",
            "('TEC-CO-10001449', 18151.2)\n",
            "('TEC-MA-10001127', 17906.4)\n",
            "('OFF-BI-10004995', 17354.8)\n",
            "('OFF-SU-10000151', 16325.8)\n"
          ]
        }
      ]
    },
    {
      "cell_type": "code",
      "source": [
        "#top 5 highest selling products in each region\n",
        "c.execute(\"\"\"\n",
        "WITH cte AS (\n",
        "    SELECT\n",
        "        region,\n",
        "        product_id,\n",
        "        SUM(sale_price) AS sales\n",
        "    FROM\n",
        "        orders_final\n",
        "    GROUP BY\n",
        "        region, product_id\n",
        "),\n",
        "ranked_cte AS (\n",
        "    SELECT\n",
        "        region,\n",
        "        product_id,\n",
        "        sales,\n",
        "        ROW_NUMBER() OVER (PARTITION BY region ORDER BY sales DESC) AS rn\n",
        "    FROM\n",
        "        cte\n",
        ")\n",
        "SELECT\n",
        "    region,\n",
        "    product_id,\n",
        "    sales\n",
        "FROM\n",
        "    ranked_cte\n",
        "WHERE\n",
        "    rn <= 5\n",
        "\"\"\")\n",
        "\n",
        "rows = c.fetchall()\n",
        "for row in rows:\n",
        "  print(row)\n"
      ],
      "metadata": {
        "colab": {
          "base_uri": "https://localhost:8080/"
        },
        "id": "Ygi8QvNYzbd4",
        "outputId": "e010c27f-0b35-421e-ff0d-f2a45cce5a6f"
      },
      "execution_count": null,
      "outputs": [
        {
          "output_type": "stream",
          "name": "stdout",
          "text": [
            "('Central', 'TEC-CO-10004722', 16975.0)\n",
            "('Central', 'TEC-MA-10000822', 13770.0)\n",
            "('Central', 'OFF-BI-10001120', 11056.5)\n",
            "('Central', 'OFF-BI-10000545', 10132.7)\n",
            "('Central', 'OFF-BI-10004995', 8416.1)\n",
            "('East', 'TEC-CO-10004722', 29099.0)\n",
            "('East', 'TEC-MA-10001047', 13767.0)\n",
            "('East', 'FUR-BO-10004834', 11274.1)\n",
            "('East', 'OFF-BI-10001359', 8463.599999999999)\n",
            "('East', 'TEC-CO-10001449', 8316.0)\n",
            "('South', 'TEC-MA-10002412', 21734.4)\n",
            "('South', 'TEC-MA-10001127', 11116.4)\n",
            "('South', 'OFF-BI-10001359', 8053.200000000001)\n",
            "('South', 'TEC-MA-10004125', 7840.0)\n",
            "('South', 'OFF-BI-10003527', 7391.4)\n",
            "('West', 'TEC-CO-10004722', 13440.0)\n",
            "('West', 'OFF-SU-10000151', 12592.3)\n",
            "('West', 'FUR-CH-10001215', 9604.0)\n",
            "('West', 'OFF-BI-10003527', 7804.799999999999)\n",
            "('West', 'TEC-AC-10003832', 7722.7)\n"
          ]
        }
      ]
    },
    {
      "cell_type": "code",
      "source": [
        "# month over month growth comparison for 2022 and 2023 sales eg : jan 2022 vs jan 2023\n",
        "c.execute(\"\"\"\n",
        "    WITH cte AS (\n",
        "        SELECT\n",
        "            strftime('%Y', order_date) AS order_year,\n",
        "            strftime('%m', order_date) AS order_month,\n",
        "            SUM(sale_price) AS sales\n",
        "        FROM orders_final\n",
        "        GROUP BY order_year, order_month\n",
        "    )\n",
        "    SELECT\n",
        "        order_month,\n",
        "        SUM(CASE WHEN order_year = '2022' THEN sales ELSE 0 END) AS sales_2022,\n",
        "        SUM(CASE WHEN order_year = '2023' THEN sales ELSE 0 END) AS sales_2023\n",
        "    FROM cte\n",
        "    GROUP BY order_month\n",
        "    ORDER BY order_month\n",
        "\"\"\")\n",
        "rows = c.fetchall()\n",
        "for row in rows:\n",
        "  print(row)\n"
      ],
      "metadata": {
        "colab": {
          "base_uri": "https://localhost:8080/"
        },
        "id": "ZWgn-1q-0G6D",
        "outputId": "4b0a5927-3906-4dcd-dd5d-6408f9114cb2"
      },
      "execution_count": null,
      "outputs": [
        {
          "output_type": "stream",
          "name": "stdout",
          "text": [
            "('01', 94712.49999999997, 88632.6)\n",
            "('02', 90091.0, 128124.20000000011)\n",
            "('03', 80105.99999999996, 82512.29999999994)\n",
            "('04', 95451.60000000005, 111568.60000000006)\n",
            "('05', 79448.29999999993, 86447.89999999994)\n",
            "('06', 94170.49999999999, 68976.5)\n",
            "('07', 78652.20000000003, 90563.79999999993)\n",
            "('08', 104807.99999999996, 87733.59999999999)\n",
            "('09', 79142.19999999991, 76658.59999999993)\n",
            "('10', 118912.69999999998, 121061.49999999993)\n",
            "('11', 84225.29999999997, 75432.79999999993)\n",
            "('12', 95869.90000000004, 102556.09999999999)\n"
          ]
        }
      ]
    },
    {
      "cell_type": "code",
      "source": [
        "#for each category which month had highest sales\n",
        "c.execute(\"\"\"\n",
        "    WITH cte AS (\n",
        "        SELECT\n",
        "            category,\n",
        "            strftime('%Y-%m', order_date) AS order_year_month,\n",
        "            SUM(sale_price) AS sales\n",
        "        FROM orders_final\n",
        "        GROUP BY category, order_year_month\n",
        "    )\n",
        "    SELECT * FROM (\n",
        "        SELECT *,\n",
        "            ROW_NUMBER() OVER (PARTITION BY category ORDER BY sales DESC) AS rn\n",
        "        FROM cte\n",
        "    ) a\n",
        "    WHERE rn = 1\n",
        "\"\"\")\n",
        "rows = c.fetchall()\n",
        "for row in rows:\n",
        "  print(row)"
      ],
      "metadata": {
        "colab": {
          "base_uri": "https://localhost:8080/"
        },
        "id": "whB2mpxN2vRJ",
        "outputId": "d43b947a-9123-48ac-b8b5-bc5a3cfe122d"
      },
      "execution_count": null,
      "outputs": [
        {
          "output_type": "stream",
          "name": "stdout",
          "text": [
            "('Furniture', '2022-10', 42888.90000000001, 1)\n",
            "('Office Supplies', '2023-02', 44118.499999999985, 1)\n",
            "('Technology', '2023-10', 53000.10000000002, 1)\n"
          ]
        }
      ]
    },
    {
      "cell_type": "code",
      "source": [
        "#which sub category had highest growth by profit in 2023 compare to 2022\n",
        "c.execute(\"\"\"\n",
        "    WITH cte AS (\n",
        "        SELECT\n",
        "            sub_category,\n",
        "            strftime('%Y', order_date) AS order_year,\n",
        "            SUM(sale_price) AS sales\n",
        "        FROM orders_final\n",
        "        GROUP BY sub_category, order_year\n",
        "    ),\n",
        "    cte2 AS (\n",
        "        SELECT\n",
        "            sub_category,\n",
        "            SUM(CASE WHEN order_year = '2022' THEN sales ELSE 0 END) AS sales_2022,\n",
        "            SUM(CASE WHEN order_year = '2023' THEN sales ELSE 0 END) AS sales_2023\n",
        "        FROM cte\n",
        "        GROUP BY sub_category\n",
        "    )\n",
        "    SELECT\n",
        "        sub_category,\n",
        "        sales_2022,\n",
        "        sales_2023,\n",
        "        (sales_2023 - sales_2022) AS sales_difference\n",
        "    FROM cte2\n",
        "    ORDER BY sales_difference DESC\n",
        "    LIMIT 1\n",
        "\"\"\")\n",
        "rows = c.fetchall()\n",
        "for row in rows:\n",
        "  print(row)"
      ],
      "metadata": {
        "colab": {
          "base_uri": "https://localhost:8080/"
        },
        "id": "89ZMM95E3UDJ",
        "outputId": "560f5f8e-b754-4180-ab55-23d96fc48571"
      },
      "execution_count": null,
      "outputs": [
        {
          "output_type": "stream",
          "name": "stdout",
          "text": [
            "('Machines', 73723.2, 109178.50000000001, 35455.30000000002)\n"
          ]
        }
      ]
    }
  ]
}
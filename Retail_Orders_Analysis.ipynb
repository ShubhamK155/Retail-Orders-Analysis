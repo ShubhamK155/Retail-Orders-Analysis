{
  "nbformat": 4,
  "nbformat_minor": 0,
  "metadata": {
    "colab": {
      "provenance": [],
      "authorship_tag": "ABX9TyPraKOHBsRQD7TNdwpEpR3e",
      "include_colab_link": true
    },
    "kernelspec": {
      "name": "python3",
      "display_name": "Python 3"
    },
    "language_info": {
      "name": "python"
    }
  },
  "cells": [
    {
      "cell_type": "markdown",
      "metadata": {
        "id": "view-in-github",
        "colab_type": "text"
      },
      "source": [
        "<a href=\"https://colab.research.google.com/github/ShubhamK155/Retail-Orders-Analysis/blob/main/Retail_Orders_Analysis.ipynb\" target=\"_parent\"><img src=\"https://colab.research.google.com/assets/colab-badge.svg\" alt=\"Open In Colab\"/></a>"
      ]
    },
    {
      "cell_type": "markdown",
      "source": [
        "**Extracting data from kaggle API**\n",
        "\n",
        "\n"
      ],
      "metadata": {
        "id": "Uxw2pEHit6T5"
      }
    },
    {
      "cell_type": "code",
      "source": [
        "# extracting data from API\n",
        "!kaggle datasets download -d ankitbansal06/retail-orders"
      ],
      "metadata": {
        "collapsed": true,
        "id": "kIinz9nw61wp"
      },
      "execution_count": null,
      "outputs": []
    },
    {
      "cell_type": "code",
      "source": [
        "#Extracting file from zip file\n",
        "!unzip retail-orders.zip"
      ],
      "metadata": {
        "collapsed": true,
        "id": "sBOIW0nC6_wa"
      },
      "execution_count": null,
      "outputs": []
    },
    {
      "cell_type": "code",
      "source": [
        "# importing libraries\n",
        "import pandas as pd\n",
        "\n",
        "# Loading CSV file into DataFrame\n",
        "df = pd.read_csv('/content/orders.csv')"
      ],
      "metadata": {
        "id": "swsO4Sp48neR",
        "collapsed": true
      },
      "execution_count": null,
      "outputs": []
    },
    {
      "cell_type": "code",
      "source": [
        "# reading dataframe\n",
        "df"
      ],
      "metadata": {
        "id": "Go2I_is2BuIe",
        "collapsed": true
      },
      "execution_count": null,
      "outputs": []
    },
    {
      "cell_type": "markdown",
      "source": [
        "**Data Transformation, Cleaning & Manipulation**"
      ],
      "metadata": {
        "id": "2PnAs3xw5PHH"
      }
    },
    {
      "cell_type": "code",
      "source": [
        "# null handling\n",
        "import numpy as np"
      ],
      "metadata": {
        "id": "Bij2R5qnRqJf"
      },
      "execution_count": null,
      "outputs": []
    },
    {
      "cell_type": "code",
      "source": [
        "# checking for unique values for each column\n",
        "\n",
        "col_name = df.columns\n",
        "\n",
        "for index in col_name:\n",
        "  print(f\"'{index}': {df[index].unique()}\")\n",
        "\n",
        "# Got 'Ship Mode': ['Second Class' 'Standard Class' 'Not Available' 'unknown' 'First Class']\n",
        "# Changing 'Not Available' 'unknown' to Null Values"
      ],
      "metadata": {
        "id": "DUUFnlkfhKun"
      },
      "execution_count": null,
      "outputs": []
    },
    {
      "cell_type": "code",
      "source": [
        "df = pd.read_csv('orders.csv',na_values=['Not Available','unknown'])"
      ],
      "metadata": {
        "id": "deZJZX_uft56"
      },
      "execution_count": null,
      "outputs": []
    },
    {
      "cell_type": "code",
      "source": [
        "col_name = df.columns\n",
        "\n",
        "for index in col_name:\n",
        "  print(f\"'{index}': {df[index].unique()}\")\n",
        "\n",
        "# verifying the change 'Not Available' 'unknown' to Null Values"
      ],
      "metadata": {
        "id": "uBvGfVcYkZXz"
      },
      "execution_count": null,
      "outputs": []
    },
    {
      "cell_type": "code",
      "source": [
        "# checking every column for null values\n",
        "\n",
        "for index in col_name:\n",
        "  if df[index].isnull().any():\n",
        "    print({index})\n",
        "\n",
        "# Above will return {'Ship Mode'} has null values"
      ],
      "metadata": {
        "collapsed": true,
        "id": "Lst8gC-lR_Ka"
      },
      "execution_count": null,
      "outputs": []
    },
    {
      "cell_type": "code",
      "source": [
        "col_name\n",
        "#returns a list of column names"
      ],
      "metadata": {
        "collapsed": true,
        "id": "xMpDR7YscdCS"
      },
      "execution_count": null,
      "outputs": []
    },
    {
      "cell_type": "code",
      "source": [
        "#renaming the column names make them lower case and replace space with underscore\n",
        "\n",
        "df.columns = df.columns.str.lower()\n",
        "df.columns = df.columns.str.replace(' ','_')\n",
        "df.columns"
      ],
      "metadata": {
        "collapsed": true,
        "id": "49OQZH5Hc-vV"
      },
      "execution_count": null,
      "outputs": []
    },
    {
      "cell_type": "code",
      "source": [
        "df"
      ],
      "metadata": {
        "id": "Fu5H8yxmeJmJ"
      },
      "execution_count": null,
      "outputs": []
    },
    {
      "cell_type": "code",
      "source": [
        "#deriving new columns discount, sale price and profit\n",
        "\n",
        "df['discount']=df['list_price']*df['discount_percent']*.01\n",
        "df['sale_price']= df['list_price']-df['discount']\n",
        "df['profit']=df['sale_price']-df['cost_price']"
      ],
      "metadata": {
        "id": "cE96zgJLnhuq"
      },
      "execution_count": null,
      "outputs": []
    },
    {
      "cell_type": "code",
      "source": [
        "#converting order date from object data type to datetime\n",
        "\n",
        "df['order_date'] = pd.to_datetime(df['order_date'], format = \"%Y-%m-%d\")"
      ],
      "metadata": {
        "id": "kHeUCjxvpKup"
      },
      "execution_count": null,
      "outputs": []
    },
    {
      "cell_type": "code",
      "source": [
        "df.info()"
      ],
      "metadata": {
        "id": "GELTx0o8pooK"
      },
      "execution_count": null,
      "outputs": []
    },
    {
      "cell_type": "code",
      "source": [
        "#dropping cost price list price and discount percent columns\n",
        "df.drop(columns=['list_price','cost_price','discount_percent'],inplace=True)"
      ],
      "metadata": {
        "id": "lOjIycmVpxeI"
      },
      "execution_count": null,
      "outputs": []
    },
    {
      "cell_type": "code",
      "source": [
        "df"
      ],
      "metadata": {
        "id": "Li6D_b8pqN3I",
        "collapsed": true
      },
      "execution_count": null,
      "outputs": []
    },
    {
      "cell_type": "markdown",
      "source": [
        "**Loading Data in SQLite**"
      ],
      "metadata": {
        "id": "zdxU_qb45lm3"
      }
    },
    {
      "cell_type": "code",
      "source": [
        "# Loading the Data in Sqlite\n",
        "import sqlite3\n",
        "\n",
        "# Connecting to SQLite database (or create it if it doesn't exist)\n",
        "conn = sqlite3.connect('database.db')\n",
        "\n",
        "# Creating a table in SQLite (schema inferred from DataFrame)\n",
        "df.to_sql('orders_final', conn, if_exists = 'replace', index = False)\n",
        "\n",
        "c = conn.cursor()"
      ],
      "metadata": {
        "id": "n_Wqvg36qV2a"
      },
      "execution_count": null,
      "outputs": []
    },
    {
      "cell_type": "code",
      "source": [
        "# Verifying the ETL pipeline\n",
        "\n",
        "c.execute(\"SELECT discount,sale_price,profit FROM orders_final limit 10\")\n",
        "rows = c.fetchall()\n",
        "for row in rows:\n",
        "  print(row)"
      ],
      "metadata": {
        "colab": {
          "base_uri": "https://localhost:8080/"
        },
        "collapsed": true,
        "id": "IerIkNqisB2l",
        "outputId": "6b9e193a-a3f8-47c1-e3d1-2934dcdf7261"
      },
      "execution_count": null,
      "outputs": [
        {
          "output_type": "stream",
          "name": "stdout",
          "text": [
            "(5.2, 254.8, 14.800000000000011)\n",
            "(21.900000000000002, 708.1, 108.10000000000002)\n",
            "(0.5, 9.5, -0.5)\n",
            "(19.2, 940.8, 160.79999999999995)\n",
            "(1.0, 19.0, -1.0)\n",
            "(1.5, 48.5, -1.5)\n",
            "(0.3, 9.7, -0.3000000000000007)\n",
            "(45.5, 864.5, 4.5)\n",
            "(0.4, 19.6, -0.3999999999999986)\n",
            "(3.3000000000000003, 106.7, 16.700000000000003)\n"
          ]
        }
      ]
    },
    {
      "cell_type": "markdown",
      "source": [
        "**Exploratory data analysis using SQL**"
      ],
      "metadata": {
        "id": "VvzOyWK055lY"
      }
    },
    {
      "cell_type": "code",
      "source": [
        "# top 10 highest reveue generating products\n",
        "c.execute(\"\"\"\n",
        "    SELECT product_id, SUM(sale_price) AS sales\n",
        "    FROM orders_final\n",
        "    GROUP BY product_id\n",
        "    ORDER BY sales DESC\n",
        "    LIMIT 10\n",
        "\"\"\")\n",
        "rows = c.fetchall()\n",
        "for row in rows:\n",
        "  print(row)"
      ],
      "metadata": {
        "colab": {
          "base_uri": "https://localhost:8080/"
        },
        "id": "nffhixhktZsP",
        "outputId": "ad81a784-9d89-4eaa-8150-e7a1db353618"
      },
      "execution_count": null,
      "outputs": [
        {
          "output_type": "stream",
          "name": "stdout",
          "text": [
            "('TEC-CO-10004722', 59514.0)\n",
            "('OFF-BI-10003527', 26525.300000000003)\n",
            "('TEC-MA-10002412', 21734.4)\n",
            "('FUR-CH-10002024', 21096.2)\n",
            "('OFF-BI-10001359', 19090.2)\n",
            "('OFF-BI-10000545', 18249.0)\n",
            "('TEC-CO-10001449', 18151.2)\n",
            "('TEC-MA-10001127', 17906.4)\n",
            "('OFF-BI-10004995', 17354.8)\n",
            "('OFF-SU-10000151', 16325.8)\n"
          ]
        }
      ]
    },
    {
      "cell_type": "code",
      "source": [
        "#top 5 highest selling products in each region\n",
        "c.execute(\"\"\"\n",
        "WITH cte AS (\n",
        "    SELECT\n",
        "        region,\n",
        "        product_id,\n",
        "        SUM(sale_price) AS sales\n",
        "    FROM\n",
        "        orders_final\n",
        "    GROUP BY\n",
        "        region, product_id\n",
        "),\n",
        "ranked_cte AS (\n",
        "    SELECT\n",
        "        region,\n",
        "        product_id,\n",
        "        sales,\n",
        "        ROW_NUMBER() OVER (PARTITION BY region ORDER BY sales DESC) AS rn\n",
        "    FROM\n",
        "        cte\n",
        ")\n",
        "SELECT\n",
        "    region,\n",
        "    product_id,\n",
        "    sales\n",
        "FROM\n",
        "    ranked_cte\n",
        "WHERE\n",
        "    rn <= 5\n",
        "\"\"\")\n",
        "\n",
        "rows = c.fetchall()\n",
        "for row in rows:\n",
        "  print(row)\n"
      ],
      "metadata": {
        "colab": {
          "base_uri": "https://localhost:8080/"
        },
        "id": "Ygi8QvNYzbd4",
        "outputId": "e010c27f-0b35-421e-ff0d-f2a45cce5a6f"
      },
      "execution_count": null,
      "outputs": [
        {
          "output_type": "stream",
          "name": "stdout",
          "text": [
            "('Central', 'TEC-CO-10004722', 16975.0)\n",
            "('Central', 'TEC-MA-10000822', 13770.0)\n",
            "('Central', 'OFF-BI-10001120', 11056.5)\n",
            "('Central', 'OFF-BI-10000545', 10132.7)\n",
            "('Central', 'OFF-BI-10004995', 8416.1)\n",
            "('East', 'TEC-CO-10004722', 29099.0)\n",
            "('East', 'TEC-MA-10001047', 13767.0)\n",
            "('East', 'FUR-BO-10004834', 11274.1)\n",
            "('East', 'OFF-BI-10001359', 8463.599999999999)\n",
            "('East', 'TEC-CO-10001449', 8316.0)\n",
            "('South', 'TEC-MA-10002412', 21734.4)\n",
            "('South', 'TEC-MA-10001127', 11116.4)\n",
            "('South', 'OFF-BI-10001359', 8053.200000000001)\n",
            "('South', 'TEC-MA-10004125', 7840.0)\n",
            "('South', 'OFF-BI-10003527', 7391.4)\n",
            "('West', 'TEC-CO-10004722', 13440.0)\n",
            "('West', 'OFF-SU-10000151', 12592.3)\n",
            "('West', 'FUR-CH-10001215', 9604.0)\n",
            "('West', 'OFF-BI-10003527', 7804.799999999999)\n",
            "('West', 'TEC-AC-10003832', 7722.7)\n"
          ]
        }
      ]
    },
    {
      "cell_type": "code",
      "source": [
        "# month over month growth comparison for 2022 and 2023 sales eg : jan 2022 vs jan 2023\n",
        "c.execute(\"\"\"\n",
        "    WITH cte AS (\n",
        "        SELECT\n",
        "            strftime('%Y', order_date) AS order_year,\n",
        "            strftime('%m', order_date) AS order_month,\n",
        "            SUM(sale_price) AS sales\n",
        "        FROM orders_final\n",
        "        GROUP BY order_year, order_month\n",
        "    )\n",
        "    SELECT\n",
        "        order_month,\n",
        "        SUM(CASE WHEN order_year = '2022' THEN sales ELSE 0 END) AS sales_2022,\n",
        "        SUM(CASE WHEN order_year = '2023' THEN sales ELSE 0 END) AS sales_2023\n",
        "    FROM cte\n",
        "    GROUP BY order_month\n",
        "    ORDER BY order_month\n",
        "\"\"\")\n",
        "rows = c.fetchall()\n",
        "for row in rows:\n",
        "  print(row)\n"
      ],
      "metadata": {
        "colab": {
          "base_uri": "https://localhost:8080/"
        },
        "id": "ZWgn-1q-0G6D",
        "outputId": "4b0a5927-3906-4dcd-dd5d-6408f9114cb2"
      },
      "execution_count": null,
      "outputs": [
        {
          "output_type": "stream",
          "name": "stdout",
          "text": [
            "('01', 94712.49999999997, 88632.6)\n",
            "('02', 90091.0, 128124.20000000011)\n",
            "('03', 80105.99999999996, 82512.29999999994)\n",
            "('04', 95451.60000000005, 111568.60000000006)\n",
            "('05', 79448.29999999993, 86447.89999999994)\n",
            "('06', 94170.49999999999, 68976.5)\n",
            "('07', 78652.20000000003, 90563.79999999993)\n",
            "('08', 104807.99999999996, 87733.59999999999)\n",
            "('09', 79142.19999999991, 76658.59999999993)\n",
            "('10', 118912.69999999998, 121061.49999999993)\n",
            "('11', 84225.29999999997, 75432.79999999993)\n",
            "('12', 95869.90000000004, 102556.09999999999)\n"
          ]
        }
      ]
    },
    {
      "cell_type": "code",
      "source": [
        "#for each category which month had highest sales\n",
        "c.execute(\"\"\"\n",
        "    WITH cte AS (\n",
        "        SELECT\n",
        "            category,\n",
        "            strftime('%Y-%m', order_date) AS order_year_month,\n",
        "            SUM(sale_price) AS sales\n",
        "        FROM orders_final\n",
        "        GROUP BY category, order_year_month\n",
        "    )\n",
        "    SELECT * FROM (\n",
        "        SELECT *,\n",
        "            ROW_NUMBER() OVER (PARTITION BY category ORDER BY sales DESC) AS rn\n",
        "        FROM cte\n",
        "    ) a\n",
        "    WHERE rn = 1\n",
        "\"\"\")\n",
        "rows = c.fetchall()\n",
        "for row in rows:\n",
        "  print(row)"
      ],
      "metadata": {
        "colab": {
          "base_uri": "https://localhost:8080/"
        },
        "id": "whB2mpxN2vRJ",
        "outputId": "d43b947a-9123-48ac-b8b5-bc5a3cfe122d"
      },
      "execution_count": null,
      "outputs": [
        {
          "output_type": "stream",
          "name": "stdout",
          "text": [
            "('Furniture', '2022-10', 42888.90000000001, 1)\n",
            "('Office Supplies', '2023-02', 44118.499999999985, 1)\n",
            "('Technology', '2023-10', 53000.10000000002, 1)\n"
          ]
        }
      ]
    },
    {
      "cell_type": "code",
      "source": [
        "#which sub category had highest growth by profit in 2023 compare to 2022\n",
        "c.execute(\"\"\"\n",
        "    WITH cte AS (\n",
        "        SELECT\n",
        "            sub_category,\n",
        "            strftime('%Y', order_date) AS order_year,\n",
        "            SUM(sale_price) AS sales\n",
        "        FROM orders_final\n",
        "        GROUP BY sub_category, order_year\n",
        "    ),\n",
        "    cte2 AS (\n",
        "        SELECT\n",
        "            sub_category,\n",
        "            SUM(CASE WHEN order_year = '2022' THEN sales ELSE 0 END) AS sales_2022,\n",
        "            SUM(CASE WHEN order_year = '2023' THEN sales ELSE 0 END) AS sales_2023\n",
        "        FROM cte\n",
        "        GROUP BY sub_category\n",
        "    )\n",
        "    SELECT\n",
        "        sub_category,\n",
        "        sales_2022,\n",
        "        sales_2023,\n",
        "        (sales_2023 - sales_2022) AS sales_difference\n",
        "    FROM cte2\n",
        "    ORDER BY sales_difference DESC\n",
        "    LIMIT 1\n",
        "\"\"\")\n",
        "rows = c.fetchall()\n",
        "for row in rows:\n",
        "  print(row)"
      ],
      "metadata": {
        "colab": {
          "base_uri": "https://localhost:8080/"
        },
        "id": "89ZMM95E3UDJ",
        "outputId": "560f5f8e-b754-4180-ab55-23d96fc48571"
      },
      "execution_count": null,
      "outputs": [
        {
          "output_type": "stream",
          "name": "stdout",
          "text": [
            "('Machines', 73723.2, 109178.50000000001, 35455.30000000002)\n"
          ]
        }
      ]
    }
  ]
}